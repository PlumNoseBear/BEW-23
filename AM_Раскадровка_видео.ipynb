{
  "nbformat": 4,
  "nbformat_minor": 0,
  "metadata": {
    "colab": {
      "provenance": [],
      "include_colab_link": true
    },
    "kernelspec": {
      "name": "python3",
      "display_name": "Python 3"
    },
    "language_info": {
      "name": "python"
    }
  },
  "cells": [
    {
      "cell_type": "markdown",
      "metadata": {
        "id": "view-in-github",
        "colab_type": "text"
      },
      "source": [
        "<a href=\"https://colab.research.google.com/github/PlumNoseBear/BEW-23/blob/main/AM_%D0%A0%D0%B0%D1%81%D0%BA%D0%B0%D0%B4%D1%80%D0%BE%D0%B2%D0%BA%D0%B0_%D0%B2%D0%B8%D0%B4%D0%B5%D0%BE.ipynb\" target=\"_parent\"><img src=\"https://colab.research.google.com/assets/colab-badge.svg\" alt=\"Open In Colab\"/></a>"
      ]
    },
    {
      "cell_type": "markdown",
      "source": [
        "## Раскадровка видео"
      ],
      "metadata": {
        "id": "5XUa5pFDteoR"
      }
    },
    {
      "cell_type": "markdown",
      "source": [
        "Импорт видеофайла в колаб"
      ],
      "metadata": {
        "id": "Szy1GnnOTX69"
      }
    },
    {
      "cell_type": "code",
      "source": [
        "from google.colab import files\n",
        "uploaded = files.upload()"
      ],
      "metadata": {
        "id": "6B21fYXdSB7u"
      },
      "execution_count": null,
      "outputs": []
    },
    {
      "cell_type": "markdown",
      "source": [
        "Проверка видео"
      ],
      "metadata": {
        "id": "JgpUToDsSKNP"
      }
    },
    {
      "cell_type": "code",
      "source": [
        "!pip install pymediainfo\n",
        "!apt-get install -y libmediainfo0v5"
      ],
      "metadata": {
        "id": "LAzP7UC1SC9L"
      },
      "execution_count": null,
      "outputs": []
    },
    {
      "cell_type": "code",
      "source": [
        "# Импорт необходимых библиотек\n",
        "from moviepy.editor import VideoFileClip\n",
        "import os\n",
        "from pymediainfo import MediaInfo\n",
        "\n",
        "# Путь к файлу\n",
        "file_path = \"/content/TESTVIDEO.mp4\"  # !!!!!!!!! Замените на ваш путь к файлу\n",
        "\n",
        "# Создание объекта видеоклипа\n",
        "clip = VideoFileClip(file_path)\n",
        "\n",
        "# Извлечение информации о видео\n",
        "duration = clip.duration  # Длительность в секундах\n",
        "fps = clip.fps  # Кадры в секунду\n",
        "\n",
        "# Получение размера файла\n",
        "file_size = os.path.getsize(file_path)  # Размер в байтах\n",
        "\n",
        "# Дополнительная информация о видео\n",
        "media_info = MediaInfo.parse(file_path)\n",
        "for track in media_info.tracks:\n",
        "    if track.track_type == 'Video':\n",
        "        width = track.width\n",
        "        height = track.height\n",
        "        bitrate = track.bit_rate\n",
        "        codec = track.codec\n",
        "\n",
        "# Вывод информации\n",
        "print(f\"File Size: {file_size / (1024 * 1024):.2f} MB\")\n",
        "print(f\"Duration: {duration:.2f} seconds\")\n",
        "print(f\"Frames per Second: {fps}\")\n",
        "print(f\"Width: {width} pixels\")\n",
        "print(f\"Height: {height} pixels\")\n",
        "print(f\"Bitrate: {bitrate} bit/s\")\n",
        "print(f\"Codec: {codec}\")"
      ],
      "metadata": {
        "id": "1x9vQxamSPBF"
      },
      "execution_count": null,
      "outputs": []
    },
    {
      "cell_type": "markdown",
      "source": [
        "Раскадровка"
      ],
      "metadata": {
        "id": "_qOWFd5tSWfV"
      }
    },
    {
      "cell_type": "code",
      "source": [
        "#Код на Python с ООП для раскадровки видео и сохранения кадров в указанную директорию:\n",
        "\n",
        "import cv2\n",
        "import os\n",
        "\n",
        "class VideoProcessor:\n",
        "    def __init__(self, video_path, frame_rate, output_dir, time_interval):\n",
        "        self.video_path = video_path\n",
        "        self.frame_rate = frame_rate\n",
        "        self.output_dir = output_dir\n",
        "        self.time_interval = time_interval\n",
        "\n",
        "    def create_out_dir(self):\n",
        "    # Создаем выходную директорию, если она не существует\n",
        "        if not os.path.exists(self.output_dir):\n",
        "            os.makedirs(self.output_dir)\n",
        "\n",
        "    def extract_frames_v1(self):\n",
        "        # Читаем видео с использованием OpenCV\n",
        "        cap = cv2.VideoCapture(self.video_path)\n",
        "        success, image = cap.read()\n",
        "        count = 0\n",
        "        while success:\n",
        "            # Save frame as JPEG file\n",
        "            cv2.imwrite(os.path.join(self.output_dir, \"frame{:d}.jpg\".format(count)), image)\n",
        "            count += 1\n",
        "            # Set the next frame to be read\n",
        "            cap.set(cv2.CAP_PROP_POS_FRAMES, count * self.frame_rate)\n",
        "            success, image = cap.read()\n",
        "\n",
        "        # Освобождаем ресурсы\n",
        "        cap.release()\n",
        "        cv2.destroyAllWindows()\n",
        "\n",
        "    def extract_frames_v2(self):\n",
        "\n",
        "        cap = cv2.VideoCapture(self.video_path)\n",
        "        count = 0\n",
        "\n",
        "        while cap.isOpened():\n",
        "            ret, frame = cap.read()\n",
        "\n",
        "            if not ret:\n",
        "                break\n",
        "\n",
        "            if count % self.frame_rate == 0:\n",
        "                filename = os.path.join(self.output_dir, f\"frame{count}.jpg\")\n",
        "                cv2.imwrite(filename, frame)\n",
        "\n",
        "            count += 1\n",
        "\n",
        "        cap.release()\n",
        "\n",
        "        # Освобождаем ресурсы\n",
        "        cap.release()\n",
        "        cv2.destroyAllWindows()\n",
        "\n",
        "    def extract_frames_v3(self):\n",
        "\n",
        "        # Загружаем видео\n",
        "        cap = cv2.VideoCapture(self.video_path)\n",
        "\n",
        "        # Получаем количество кадров в видео\n",
        "        total_frames = int(cap.get(cv2.CAP_PROP_FRAME_COUNT))\n",
        "\n",
        "        # Вычисляем количество кадров, которые нужно сохранить\n",
        "        num_frames = int(self.frame_rate * self.time_interval)\n",
        "\n",
        "        # Вычисляем интервал между сохраняемыми кадрами\n",
        "        frame_interval = total_frames // num_frames\n",
        "\n",
        "        # Счетчик сохраненных кадров\n",
        "        saved_frames = 0\n",
        "\n",
        "        # Читаем видео и сохраняем кадры\n",
        "        while cap.isOpened():\n",
        "            ret, frame = cap.read()\n",
        "\n",
        "            if ret:\n",
        "                # Сохраняем кадр, если он соответствует заданному интервалу\n",
        "                if saved_frames % frame_interval == 0:\n",
        "                    filename = f\"{saved_frames}.jpg\"\n",
        "                    filepath = os.path.join(self.output_dir, filename)\n",
        "                    cv2.imwrite(filepath, frame)\n",
        "\n",
        "                saved_frames += 1\n",
        "\n",
        "                # Прерываем цикл, если сохранены все необходимые кадры\n",
        "                if saved_frames >= num_frames:\n",
        "                    break\n",
        "\n",
        "            else:\n",
        "                break\n",
        "\n",
        "        # Освобождаем ресурсы\n",
        "        cap.release()\n",
        "        cv2.destroyAllWindows()"
      ],
      "metadata": {
        "id": "e4zLRocZlDm3"
      },
      "execution_count": null,
      "outputs": []
    },
    {
      "cell_type": "code",
      "source": [
        "if __name__ == '__main__':\n",
        "    # Example usage\n",
        "    video_path = '/content/video1.mp4'  # !!!!!!!!! Замените на ваш путь к файлу\n",
        "    frame_rate = 2  # Extract every 2 frames\n",
        "    time_interval = 10 # это для третьего варианта извлечения\n",
        "    output_dir = '/content/ext_image'\n",
        "    extractor = VideoProcessor(video_path, frame_rate, output_dir, time_interval)\n",
        "    extractor.create_out_dir()      # создаем выходную дирректорию\n",
        "\n",
        "   extractor.extract_frames_v1()   # извлечение Вариант 1\n",
        "   # extractor.extract_frames_v2()  # извлечение Вариант 2\n",
        "   # extractor.extract_frames_v3()  # извлечение Вариант 3\n",
        "\n"
      ],
      "metadata": {
        "id": "vbc-RXVkqIjp"
      },
      "execution_count": null,
      "outputs": []
    },
    {
      "cell_type": "markdown",
      "source": [
        "Сохраняем архив кадров на диск"
      ],
      "metadata": {
        "id": "Yrcgt7E5S-2f"
      }
    },
    {
      "cell_type": "code",
      "source": [
        "!zip -r /content/frames.zip /content/ext_image"
      ],
      "metadata": {
        "id": "-ithA6ODS5iE"
      },
      "execution_count": null,
      "outputs": []
    },
    {
      "cell_type": "markdown",
      "source": [
        "В данном примере мы создаем класс `VideoProcessor`, который принимает путь к видео, режим раскадровки (количество кадров в секунду) и директорию для сохранения кадров. Метод `extract_frames` использует библиотеку OpenCV для чтения видео и сохранения каждого кадра в указанную директорию.\n",
        "\n",
        "Пример использования класса показывает, как можно создать экземпляр класса и вызвать метод `extract_frames` для извлечения кадров из видео с указанным режимом раскадровки и сохранения их в указанную директорию."
      ],
      "metadata": {
        "id": "wcQwv9cEqFH9"
      }
    }
  ]
}